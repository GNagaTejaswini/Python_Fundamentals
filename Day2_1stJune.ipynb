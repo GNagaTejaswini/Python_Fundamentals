{
 "cells": [
  {
   "cell_type": "code",
   "execution_count": null,
   "id": "f97d1de8",
   "metadata": {},
   "outputs": [],
   "source": [
    "Introduction to python programming>>>>"
   ]
  },
  {
   "cell_type": "code",
   "execution_count": null,
   "id": "28105239",
   "metadata": {},
   "outputs": [],
   "source": [
    "Variables in Python:\n",
    "    A variable is a name assigned to a memory location that stores a value.\n"
   ]
  },
  {
   "cell_type": "code",
   "execution_count": null,
   "id": "2f925c5b",
   "metadata": {},
   "outputs": [],
   "source": [
    "Rules to declare variables in python:\n",
    "    Rule1: Variables must not be declared with Namespaces while storing a value.\n",
    "    Rule2: A Variable name should not start with a number.\n",
    "    Rule3: A variable name should not contain any special characters ==like==> ! @ # $ % & *"
   ]
  },
  {
   "cell_type": "code",
   "execution_count": null,
   "id": "cc5880c5",
   "metadata": {},
   "outputs": [],
   "source": [
    "Examples for Rule_1:"
   ]
  },
  {
   "cell_type": "code",
   "execution_count": 1,
   "id": "838d778e",
   "metadata": {},
   "outputs": [
    {
     "ename": "SyntaxError",
     "evalue": "invalid syntax (2637851349.py, line 1)",
     "output_type": "error",
     "traceback": [
      "\u001b[1;36m  Cell \u001b[1;32mIn[1], line 1\u001b[1;36m\u001b[0m\n\u001b[1;33m    First Name='Tejaswini'    #Sytax error will be the outcome when we use Namespaces\u001b[0m\n\u001b[1;37m          ^\u001b[0m\n\u001b[1;31mSyntaxError\u001b[0m\u001b[1;31m:\u001b[0m invalid syntax\n"
     ]
    }
   ],
   "source": [
    "First Name='Tejaswini'    #Sytax error(invalid syntax) will be the outcome when we use Namespaces\n",
    "print(First Name)"
   ]
  },
  {
   "cell_type": "code",
   "execution_count": 2,
   "id": "b288caa7",
   "metadata": {},
   "outputs": [
    {
     "name": "stdout",
     "output_type": "stream",
     "text": [
      "Durga\n"
     ]
    }
   ],
   "source": [
    "FirstName='Durga'         #No Namepaces are allowed\n",
    "print(FirstName)"
   ]
  },
  {
   "cell_type": "code",
   "execution_count": 8,
   "id": "2fa854a3",
   "metadata": {},
   "outputs": [
    {
     "name": "stdout",
     "output_type": "stream",
     "text": [
      "Bill Gates_Microsoft\n"
     ]
    }
   ],
   "source": [
    "First_Name='Bill Gates_Microsoft'   #Underscore is allowed while declarig a variable\n",
    "print(First_Name)"
   ]
  },
  {
   "cell_type": "code",
   "execution_count": 9,
   "id": "92def485",
   "metadata": {},
   "outputs": [
    {
     "name": "stdout",
     "output_type": "stream",
     "text": [
      "Narayana Murthy_Infosys\n"
     ]
    }
   ],
   "source": [
    "_FirstName='Narayana Murthy_Infosys'       #Underscore can be used anywhere in the variable declaration\n",
    "print(_FirstName)"
   ]
  },
  {
   "cell_type": "code",
   "execution_count": 5,
   "id": "15603d41",
   "metadata": {},
   "outputs": [
    {
     "name": "stdout",
     "output_type": "stream",
     "text": [
      "Tejaswini\n"
     ]
    }
   ],
   "source": [
    "First__Name=\"Tejaswini\"  #Underscore can be used number of times at anywhere in the variable declaration\n",
    "print(First__Name)"
   ]
  },
  {
   "cell_type": "code",
   "execution_count": null,
   "id": "b647f1ba",
   "metadata": {},
   "outputs": [],
   "source": [
    "Examples for Rule_2:"
   ]
  },
  {
   "cell_type": "code",
   "execution_count": 6,
   "id": "40b9f658",
   "metadata": {},
   "outputs": [
    {
     "ename": "SyntaxError",
     "evalue": "invalid decimal literal (3325362830.py, line 1)",
     "output_type": "error",
     "traceback": [
      "\u001b[1;36m  Cell \u001b[1;32mIn[6], line 1\u001b[1;36m\u001b[0m\n\u001b[1;33m    1FirstName=\"Azim_Wipro\"\u001b[0m\n\u001b[1;37m    ^\u001b[0m\n\u001b[1;31mSyntaxError\u001b[0m\u001b[1;31m:\u001b[0m invalid decimal literal\n"
     ]
    }
   ],
   "source": [
    "1FirstName=\"Azim_Wipro\"           #Syntax error(invalid decimal literal) occurs when the variable starts with the numericals \n",
    "print(1FirstName)"
   ]
  },
  {
   "cell_type": "code",
   "execution_count": 10,
   "id": "452cd15b",
   "metadata": {},
   "outputs": [
    {
     "name": "stdout",
     "output_type": "stream",
     "text": [
      "Larry Page_Google\n"
     ]
    }
   ],
   "source": [
    "FirstName1=\"Larry Page_Google\"   #Numbers can be used anywhere except starting of the variable\n",
    "print(FirstName1)"
   ]
  },
  {
   "cell_type": "code",
   "execution_count": 11,
   "id": "7162bcac",
   "metadata": {},
   "outputs": [
    {
     "name": "stdout",
     "output_type": "stream",
     "text": [
      "William Welch_Deloitte\n"
     ]
    }
   ],
   "source": [
    "_1FirstName=\"William Welch_Deloitte\"   #A number can be preceeded with an underscore\n",
    "print(_1FirstName)"
   ]
  },
  {
   "cell_type": "code",
   "execution_count": null,
   "id": "bdf09a67",
   "metadata": {},
   "outputs": [],
   "source": [
    "Examples for Rule_3:"
   ]
  },
  {
   "cell_type": "code",
   "execution_count": 12,
   "id": "fbdb55e2",
   "metadata": {},
   "outputs": [
    {
     "ename": "SyntaxError",
     "evalue": "invalid syntax (2061890903.py, line 2)",
     "output_type": "error",
     "traceback": [
      "\u001b[1;36m  Cell \u001b[1;32mIn[12], line 2\u001b[1;36m\u001b[0m\n\u001b[1;33m    print(name!)\u001b[0m\n\u001b[1;37m              ^\u001b[0m\n\u001b[1;31mSyntaxError\u001b[0m\u001b[1;31m:\u001b[0m invalid syntax\n"
     ]
    }
   ],
   "source": [
    "name!=\"Teju\"                #Special characters cant be included while declaring a variable\n",
    "print(name!)"
   ]
  },
  {
   "cell_type": "code",
   "execution_count": 15,
   "id": "3bebd317",
   "metadata": {},
   "outputs": [
    {
     "ename": "SyntaxError",
     "evalue": "invalid syntax (2890730751.py, line 2)",
     "output_type": "error",
     "traceback": [
      "\u001b[1;36m  Cell \u001b[1;32mIn[15], line 2\u001b[1;36m\u001b[0m\n\u001b[1;33m    print(name@)\u001b[0m\n\u001b[1;37m               ^\u001b[0m\n\u001b[1;31mSyntaxError\u001b[0m\u001b[1;31m:\u001b[0m invalid syntax\n"
     ]
    }
   ],
   "source": [
    "name@='Teja'               #Special characters cant be included while declaring a variable\n",
    "print(name@)"
   ]
  },
  {
   "cell_type": "code",
   "execution_count": null,
   "id": "448c3827",
   "metadata": {},
   "outputs": [],
   "source": [
    "Introduction to Datatypes in python:\n",
    "    1. String      ==>   str\n",
    "    2. Numbers     ==>   integers(int) and float(float)(decimal)\n",
    "    3. List        ==>   list\n",
    "    4. Tuple       ==>   tuple\n",
    "    5. Dictionary  ==>   dict"
   ]
  },
  {
   "cell_type": "code",
   "execution_count": null,
   "id": "17ddac9b",
   "metadata": {},
   "outputs": [],
   "source": [
    "Classification of Datatypes:\n",
    "    1. Mutable Dtatypes    ===> Which are editable     ===> Flexible in nature\n",
    "    2. Immutable Datatypes ===> Which are non-editable ===> Fixed in nature"
   ]
  },
  {
   "cell_type": "code",
   "execution_count": null,
   "id": "81b69d1e",
   "metadata": {},
   "outputs": [],
   "source": [
    "Introduction to String Dtatypes:\n",
    "    *String: A string is a series of characters declared in quotes.\n",
    "    *Classification: It is classified as Immutable Datatype."
   ]
  },
  {
   "cell_type": "code",
   "execution_count": null,
   "id": "cc662d04",
   "metadata": {},
   "outputs": [],
   "source": [
    "How to declare a string:    #Can use single or double quotes as there is no particular rule\n",
    "    1. '' ===> Single quotes\n",
    "    2. \"\" ===> Double quotes"
   ]
  },
  {
   "cell_type": "code",
   "execution_count": null,
   "id": "eece2242",
   "metadata": {},
   "outputs": [],
   "source": [
    "Examples to declare a string:"
   ]
  },
  {
   "cell_type": "code",
   "execution_count": 16,
   "id": "51dd7def",
   "metadata": {},
   "outputs": [
    {
     "name": "stdout",
     "output_type": "stream",
     "text": [
      "Tejaswini\n"
     ]
    }
   ],
   "source": [
    "FirstName='Tejaswini'\n",
    "print(FirstName)"
   ]
  },
  {
   "cell_type": "code",
   "execution_count": 18,
   "id": "d5a96042",
   "metadata": {},
   "outputs": [
    {
     "name": "stdout",
     "output_type": "stream",
     "text": [
      "Teju\n"
     ]
    }
   ],
   "source": [
    "First_Name=\"Teju\"\n",
    "print(First_Name)"
   ]
  },
  {
   "cell_type": "code",
   "execution_count": 19,
   "id": "a4dd60e2",
   "metadata": {},
   "outputs": [
    {
     "ename": "NameError",
     "evalue": "name 'Frist_Name' is not defined",
     "output_type": "error",
     "traceback": [
      "\u001b[1;31m---------------------------------------------------------------------------\u001b[0m",
      "\u001b[1;31mNameError\u001b[0m                                 Traceback (most recent call last)",
      "Cell \u001b[1;32mIn[19], line 2\u001b[0m\n\u001b[0;32m      1\u001b[0m First_Name\u001b[38;5;241m=\u001b[39m\u001b[38;5;124m\"\u001b[39m\u001b[38;5;124mTeju\u001b[39m\u001b[38;5;124m\"\u001b[39m\n\u001b[1;32m----> 2\u001b[0m \u001b[38;5;28mprint\u001b[39m(\u001b[43mFrist_Name\u001b[49m)\n",
      "\u001b[1;31mNameError\u001b[0m: name 'Frist_Name' is not defined"
     ]
    }
   ],
   "source": [
    "First_Name=\"Teju\"\n",
    "print(Frist_Name)  #The variable must be same in print() while we want to get the value of the variable as output to the screen\n",
    "                               #otherwise it'll be a syntax error like the variable name is not defined"
   ]
  },
  {
   "cell_type": "code",
   "execution_count": null,
   "id": "5500fb69",
   "metadata": {},
   "outputs": [],
   "source": [
    "Introduction to String Methods:\n",
    "    *Methods are built-in programs that are readily available in python to use by the programmers.\n",
    "    1. type()\n",
    "    2. title()\n",
    "    3. upper()\n",
    "    4. lower()\n"
   ]
  },
  {
   "cell_type": "code",
   "execution_count": null,
   "id": "e2d34911",
   "metadata": {},
   "outputs": [],
   "source": [
    "1) syntax: type(data)"
   ]
  },
  {
   "cell_type": "code",
   "execution_count": 28,
   "id": "7c165f43",
   "metadata": {},
   "outputs": [
    {
     "data": {
      "text/plain": [
       "str"
      ]
     },
     "execution_count": 28,
     "metadata": {},
     "output_type": "execute_result"
    }
   ],
   "source": [
    "type(First_Name)"
   ]
  },
  {
   "cell_type": "code",
   "execution_count": 29,
   "id": "11a262f6",
   "metadata": {},
   "outputs": [
    {
     "name": "stdout",
     "output_type": "stream",
     "text": [
      "Seshu\n"
     ]
    }
   ],
   "source": [
    "First_Name=\"Seshu\"\n",
    "print(First_Name)"
   ]
  },
  {
   "cell_type": "code",
   "execution_count": 30,
   "id": "cf7db1fc",
   "metadata": {},
   "outputs": [
    {
     "name": "stdout",
     "output_type": "stream",
     "text": [
      "<class 'str'>\n"
     ]
    }
   ],
   "source": [
    "First_Name=\"Mahe\"\n",
    "print(type(First_Name))"
   ]
  },
  {
   "cell_type": "code",
   "execution_count": 31,
   "id": "254f2c7b",
   "metadata": {},
   "outputs": [
    {
     "data": {
      "text/plain": [
       "str"
      ]
     },
     "execution_count": 31,
     "metadata": {},
     "output_type": "execute_result"
    }
   ],
   "source": [
    "type(First_Name)"
   ]
  },
  {
   "cell_type": "code",
   "execution_count": null,
   "id": "fd9e30f5",
   "metadata": {},
   "outputs": [],
   "source": [
    "2) title(): It is used to change the first letters of the value to the capitals as the output must be clear and proper format"
   ]
  },
  {
   "cell_type": "code",
   "execution_count": null,
   "id": "4221a283",
   "metadata": {},
   "outputs": [],
   "source": [
    "Example for title():"
   ]
  },
  {
   "cell_type": "code",
   "execution_count": 32,
   "id": "4a082718",
   "metadata": {},
   "outputs": [
    {
     "name": "stdout",
     "output_type": "stream",
     "text": [
      "julie sweet\n"
     ]
    }
   ],
   "source": [
    "Entirename='julie sweet'\n",
    "print(Entirename)"
   ]
  },
  {
   "cell_type": "code",
   "execution_count": 33,
   "id": "6f2d409d",
   "metadata": {},
   "outputs": [
    {
     "name": "stdout",
     "output_type": "stream",
     "text": [
      "Julie Sweet\n"
     ]
    }
   ],
   "source": [
    "print(Entirename.title())   #title() is to get the proper format in output"
   ]
  },
  {
   "cell_type": "code",
   "execution_count": null,
   "id": "7e960f5b",
   "metadata": {},
   "outputs": [],
   "source": [
    "3) upper(): It is used to change the string value into capital letters."
   ]
  },
  {
   "cell_type": "code",
   "execution_count": null,
   "id": "661358e4",
   "metadata": {},
   "outputs": [],
   "source": [
    "Example:"
   ]
  },
  {
   "cell_type": "code",
   "execution_count": 34,
   "id": "ca1db0a2",
   "metadata": {},
   "outputs": [
    {
     "name": "stdout",
     "output_type": "stream",
     "text": [
      "JULIE SWEET\n"
     ]
    }
   ],
   "source": [
    "print(Entirename.upper())"
   ]
  },
  {
   "cell_type": "code",
   "execution_count": null,
   "id": "bbd89f7f",
   "metadata": {},
   "outputs": [],
   "source": [
    "4) lower(): It is used to change the string value into small case letters"
   ]
  },
  {
   "cell_type": "code",
   "execution_count": null,
   "id": "ae99938d",
   "metadata": {},
   "outputs": [],
   "source": [
    "Example:"
   ]
  },
  {
   "cell_type": "code",
   "execution_count": 35,
   "id": "b1199250",
   "metadata": {},
   "outputs": [
    {
     "name": "stdout",
     "output_type": "stream",
     "text": [
      "julie sweet\n"
     ]
    }
   ],
   "source": [
    "print(Entirename.lower())"
   ]
  },
  {
   "cell_type": "code",
   "execution_count": null,
   "id": "14076907",
   "metadata": {},
   "outputs": [],
   "source": []
  }
 ],
 "metadata": {
  "kernelspec": {
   "display_name": "Python 3 (ipykernel)",
   "language": "python",
   "name": "python3"
  },
  "language_info": {
   "codemirror_mode": {
    "name": "ipython",
    "version": 3
   },
   "file_extension": ".py",
   "mimetype": "text/x-python",
   "name": "python",
   "nbconvert_exporter": "python",
   "pygments_lexer": "ipython3",
   "version": "3.10.9"
  }
 },
 "nbformat": 4,
 "nbformat_minor": 5
}
